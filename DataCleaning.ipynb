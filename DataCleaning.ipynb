{
  "nbformat": 4,
  "nbformat_minor": 0,
  "metadata": {
    "colab": {
      "provenance": [],
      "authorship_tag": "ABX9TyPQfSnCpT0TxC6+SGu3gvbD",
      "include_colab_link": true
    },
    "kernelspec": {
      "name": "python3",
      "display_name": "Python 3"
    },
    "language_info": {
      "name": "python"
    }
  },
  "cells": [
    {
      "cell_type": "markdown",
      "metadata": {
        "id": "view-in-github",
        "colab_type": "text"
      },
      "source": [
        "<a href=\"https://colab.research.google.com/github/stutibimali/Webscrapping/blob/main/DataCleaning.ipynb\" target=\"_parent\"><img src=\"https://colab.research.google.com/assets/colab-badge.svg\" alt=\"Open In Colab\"/></a>"
      ]
    },
    {
      "cell_type": "markdown",
      "source": [
        "# Data Cleaning"
      ],
      "metadata": {
        "id": "JQRKjms3_Pzz"
      }
    },
    {
      "cell_type": "code",
      "source": [
        "import matplotlib.pyplot as plt\n",
        "import seaborn as sns\n",
        "import re\n",
        "import pandas as pd\n",
        "import os\n"
      ],
      "metadata": {
        "id": "A8tlgU0g_UUq"
      },
      "execution_count": 1,
      "outputs": []
    },
    {
      "cell_type": "code",
      "source": [
        "#create a dataframe from csv file\n",
        "\n",
        "cwd = os.getcwd()\n",
        "\n",
        "df = pd.read_csv(cwd+\"/BA_reviews.csv\", index_col=0)\n",
        "df.head()"
      ],
      "metadata": {
        "colab": {
          "base_uri": "https://localhost:8080/",
          "height": 206
        },
        "id": "zJRMPHbC_qK8",
        "outputId": "bc366c50-0dce-4c7f-ec3f-3ebe050c84bc"
      },
      "execution_count": 2,
      "outputs": [
        {
          "output_type": "execute_result",
          "data": {
            "text/plain": [
              "                                             reviews  stars             date  \\\n",
              "0  ✅ Trip Verified |  The incoming and outgoing f...      5  10th March 2023   \n",
              "1  ✅ Trip Verified |  Back in December my family ...      1  10th March 2023   \n",
              "2  ✅ Trip Verified |  As usual the flight is dela...      1  10th March 2023   \n",
              "3  ✅ Trip Verified | A short BA euro trip and thi...      1   9th March 2023   \n",
              "4  Not Verified |  We are flying Business class f...      8   8th March 2023   \n",
              "\n",
              "          country  \n",
              "0  United Kingdom  \n",
              "1       Australia  \n",
              "2  United Kingdom  \n",
              "3  United Kingdom  \n",
              "4   United States  "
            ],
            "text/html": [
              "\n",
              "  <div id=\"df-473c611a-7683-46c3-805c-9fb1e70da20f\">\n",
              "    <div class=\"colab-df-container\">\n",
              "      <div>\n",
              "<style scoped>\n",
              "    .dataframe tbody tr th:only-of-type {\n",
              "        vertical-align: middle;\n",
              "    }\n",
              "\n",
              "    .dataframe tbody tr th {\n",
              "        vertical-align: top;\n",
              "    }\n",
              "\n",
              "    .dataframe thead th {\n",
              "        text-align: right;\n",
              "    }\n",
              "</style>\n",
              "<table border=\"1\" class=\"dataframe\">\n",
              "  <thead>\n",
              "    <tr style=\"text-align: right;\">\n",
              "      <th></th>\n",
              "      <th>reviews</th>\n",
              "      <th>stars</th>\n",
              "      <th>date</th>\n",
              "      <th>country</th>\n",
              "    </tr>\n",
              "  </thead>\n",
              "  <tbody>\n",
              "    <tr>\n",
              "      <th>0</th>\n",
              "      <td>✅ Trip Verified |  The incoming and outgoing f...</td>\n",
              "      <td>5</td>\n",
              "      <td>10th March 2023</td>\n",
              "      <td>United Kingdom</td>\n",
              "    </tr>\n",
              "    <tr>\n",
              "      <th>1</th>\n",
              "      <td>✅ Trip Verified |  Back in December my family ...</td>\n",
              "      <td>1</td>\n",
              "      <td>10th March 2023</td>\n",
              "      <td>Australia</td>\n",
              "    </tr>\n",
              "    <tr>\n",
              "      <th>2</th>\n",
              "      <td>✅ Trip Verified |  As usual the flight is dela...</td>\n",
              "      <td>1</td>\n",
              "      <td>10th March 2023</td>\n",
              "      <td>United Kingdom</td>\n",
              "    </tr>\n",
              "    <tr>\n",
              "      <th>3</th>\n",
              "      <td>✅ Trip Verified | A short BA euro trip and thi...</td>\n",
              "      <td>1</td>\n",
              "      <td>9th March 2023</td>\n",
              "      <td>United Kingdom</td>\n",
              "    </tr>\n",
              "    <tr>\n",
              "      <th>4</th>\n",
              "      <td>Not Verified |  We are flying Business class f...</td>\n",
              "      <td>8</td>\n",
              "      <td>8th March 2023</td>\n",
              "      <td>United States</td>\n",
              "    </tr>\n",
              "  </tbody>\n",
              "</table>\n",
              "</div>\n",
              "      <button class=\"colab-df-convert\" onclick=\"convertToInteractive('df-473c611a-7683-46c3-805c-9fb1e70da20f')\"\n",
              "              title=\"Convert this dataframe to an interactive table.\"\n",
              "              style=\"display:none;\">\n",
              "        \n",
              "  <svg xmlns=\"http://www.w3.org/2000/svg\" height=\"24px\"viewBox=\"0 0 24 24\"\n",
              "       width=\"24px\">\n",
              "    <path d=\"M0 0h24v24H0V0z\" fill=\"none\"/>\n",
              "    <path d=\"M18.56 5.44l.94 2.06.94-2.06 2.06-.94-2.06-.94-.94-2.06-.94 2.06-2.06.94zm-11 1L8.5 8.5l.94-2.06 2.06-.94-2.06-.94L8.5 2.5l-.94 2.06-2.06.94zm10 10l.94 2.06.94-2.06 2.06-.94-2.06-.94-.94-2.06-.94 2.06-2.06.94z\"/><path d=\"M17.41 7.96l-1.37-1.37c-.4-.4-.92-.59-1.43-.59-.52 0-1.04.2-1.43.59L10.3 9.45l-7.72 7.72c-.78.78-.78 2.05 0 2.83L4 21.41c.39.39.9.59 1.41.59.51 0 1.02-.2 1.41-.59l7.78-7.78 2.81-2.81c.8-.78.8-2.07 0-2.86zM5.41 20L4 18.59l7.72-7.72 1.47 1.35L5.41 20z\"/>\n",
              "  </svg>\n",
              "      </button>\n",
              "      \n",
              "  <style>\n",
              "    .colab-df-container {\n",
              "      display:flex;\n",
              "      flex-wrap:wrap;\n",
              "      gap: 12px;\n",
              "    }\n",
              "\n",
              "    .colab-df-convert {\n",
              "      background-color: #E8F0FE;\n",
              "      border: none;\n",
              "      border-radius: 50%;\n",
              "      cursor: pointer;\n",
              "      display: none;\n",
              "      fill: #1967D2;\n",
              "      height: 32px;\n",
              "      padding: 0 0 0 0;\n",
              "      width: 32px;\n",
              "    }\n",
              "\n",
              "    .colab-df-convert:hover {\n",
              "      background-color: #E2EBFA;\n",
              "      box-shadow: 0px 1px 2px rgba(60, 64, 67, 0.3), 0px 1px 3px 1px rgba(60, 64, 67, 0.15);\n",
              "      fill: #174EA6;\n",
              "    }\n",
              "\n",
              "    [theme=dark] .colab-df-convert {\n",
              "      background-color: #3B4455;\n",
              "      fill: #D2E3FC;\n",
              "    }\n",
              "\n",
              "    [theme=dark] .colab-df-convert:hover {\n",
              "      background-color: #434B5C;\n",
              "      box-shadow: 0px 1px 3px 1px rgba(0, 0, 0, 0.15);\n",
              "      filter: drop-shadow(0px 1px 2px rgba(0, 0, 0, 0.3));\n",
              "      fill: #FFFFFF;\n",
              "    }\n",
              "  </style>\n",
              "\n",
              "      <script>\n",
              "        const buttonEl =\n",
              "          document.querySelector('#df-473c611a-7683-46c3-805c-9fb1e70da20f button.colab-df-convert');\n",
              "        buttonEl.style.display =\n",
              "          google.colab.kernel.accessAllowed ? 'block' : 'none';\n",
              "\n",
              "        async function convertToInteractive(key) {\n",
              "          const element = document.querySelector('#df-473c611a-7683-46c3-805c-9fb1e70da20f');\n",
              "          const dataTable =\n",
              "            await google.colab.kernel.invokeFunction('convertToInteractive',\n",
              "                                                     [key], {});\n",
              "          if (!dataTable) return;\n",
              "\n",
              "          const docLinkHtml = 'Like what you see? Visit the ' +\n",
              "            '<a target=\"_blank\" href=https://colab.research.google.com/notebooks/data_table.ipynb>data table notebook</a>'\n",
              "            + ' to learn more about interactive tables.';\n",
              "          element.innerHTML = '';\n",
              "          dataTable['output_type'] = 'display_data';\n",
              "          await google.colab.output.renderOutput(dataTable, element);\n",
              "          const docLink = document.createElement('div');\n",
              "          docLink.innerHTML = docLinkHtml;\n",
              "          element.appendChild(docLink);\n",
              "        }\n",
              "      </script>\n",
              "    </div>\n",
              "  </div>\n",
              "  "
            ]
          },
          "metadata": {},
          "execution_count": 2
        }
      ]
    },
    {
      "cell_type": "code",
      "source": [
        "df['verified'] = df.reviews.str.contains(\"Trip Verified\")\n",
        "df['verified']"
      ],
      "metadata": {
        "colab": {
          "base_uri": "https://localhost:8080/"
        },
        "id": "gPxz9byF_3UB",
        "outputId": "ffff90b2-3c89-47a3-cdbd-20bb3a4e644a"
      },
      "execution_count": 3,
      "outputs": [
        {
          "output_type": "execute_result",
          "data": {
            "text/plain": [
              "0       True\n",
              "1       True\n",
              "2       True\n",
              "3       True\n",
              "4      False\n",
              "       ...  \n",
              "995     True\n",
              "996     True\n",
              "997     True\n",
              "998     True\n",
              "999     True\n",
              "Name: verified, Length: 1000, dtype: bool"
            ]
          },
          "metadata": {},
          "execution_count": 3
        }
      ]
    },
    {
      "cell_type": "markdown",
      "source": [
        "## Cleaning Reviews"
      ],
      "metadata": {
        "id": "rIw1BNm0ABHd"
      }
    },
    {
      "cell_type": "code",
      "source": [
        "import nltk\n",
        "nltk.download('stopwords')"
      ],
      "metadata": {
        "colab": {
          "base_uri": "https://localhost:8080/"
        },
        "id": "RrB6kQK1Bqx9",
        "outputId": "40369fe7-df2d-4e77-bde3-625791ead70f"
      },
      "execution_count": 4,
      "outputs": [
        {
          "output_type": "stream",
          "name": "stderr",
          "text": [
            "[nltk_data] Downloading package stopwords to /root/nltk_data...\n",
            "[nltk_data]   Unzipping corpora/stopwords.zip.\n"
          ]
        },
        {
          "output_type": "execute_result",
          "data": {
            "text/plain": [
              "True"
            ]
          },
          "metadata": {},
          "execution_count": 4
        }
      ]
    },
    {
      "cell_type": "code",
      "source": [
        "nltk.download('wordnet')"
      ],
      "metadata": {
        "colab": {
          "base_uri": "https://localhost:8080/"
        },
        "id": "v5BLKNTIBzq5",
        "outputId": "1fd2cc07-2eab-42f4-d377-91f846666f13"
      },
      "execution_count": 5,
      "outputs": [
        {
          "output_type": "stream",
          "name": "stderr",
          "text": [
            "[nltk_data] Downloading package wordnet to /root/nltk_data...\n"
          ]
        },
        {
          "output_type": "execute_result",
          "data": {
            "text/plain": [
              "True"
            ]
          },
          "metadata": {},
          "execution_count": 5
        }
      ]
    },
    {
      "cell_type": "code",
      "source": [
        "nltk.download('omw-1.4')"
      ],
      "metadata": {
        "colab": {
          "base_uri": "https://localhost:8080/"
        },
        "id": "cAcT98xdB6lo",
        "outputId": "638bcb3d-6758-4073-f201-7c501ad40bfb"
      },
      "execution_count": 6,
      "outputs": [
        {
          "output_type": "stream",
          "name": "stderr",
          "text": [
            "[nltk_data] Downloading package omw-1.4 to /root/nltk_data...\n"
          ]
        },
        {
          "output_type": "execute_result",
          "data": {
            "text/plain": [
              "True"
            ]
          },
          "metadata": {},
          "execution_count": 6
        }
      ]
    },
    {
      "cell_type": "code",
      "source": [
        "#for lemmatization of words we will use nltk library\n",
        "from nltk.stem import WordNetLemmatizer\n",
        "from nltk.corpus import stopwords\n",
        "lemma = WordNetLemmatizer()\n",
        "\n",
        "\n",
        "reviews_data = df.reviews.str.strip(\"✅ Trip Verified |\")\n",
        "\n",
        "#create an empty list to collect cleaned data corpus\n",
        "corpus =[]\n",
        "\n",
        "#loop through each review, remove punctuations, small case it, join it and add it to corpus\n",
        "for rev in reviews_data:\n",
        "    rev = re.sub('[^a-zA-Z]',' ', rev)\n",
        "    rev = rev.lower()\n",
        "    rev = rev.split()\n",
        "    rev = [lemma.lemmatize(word) for word in rev if word not in set(stopwords.words(\"english\"))]\n",
        "    rev = \" \".join(rev)\n",
        "    corpus.append(rev)"
      ],
      "metadata": {
        "id": "RFQN2w7iAHeZ"
      },
      "execution_count": 7,
      "outputs": []
    },
    {
      "cell_type": "code",
      "source": [
        "# add the corpus to the original dataframe\n",
        "\n",
        "df['corpus'] = corpus"
      ],
      "metadata": {
        "id": "i5d0pnHsCGVA"
      },
      "execution_count": 8,
      "outputs": []
    },
    {
      "cell_type": "code",
      "source": [
        "df.head()"
      ],
      "metadata": {
        "colab": {
          "base_uri": "https://localhost:8080/",
          "height": 320
        },
        "id": "ZxTyAeK0CKUN",
        "outputId": "38aff741-ac6c-4182-ddba-298566d452a8"
      },
      "execution_count": 9,
      "outputs": [
        {
          "output_type": "execute_result",
          "data": {
            "text/plain": [
              "                                             reviews  stars             date  \\\n",
              "0  ✅ Trip Verified |  The incoming and outgoing f...      5  10th March 2023   \n",
              "1  ✅ Trip Verified |  Back in December my family ...      1  10th March 2023   \n",
              "2  ✅ Trip Verified |  As usual the flight is dela...      1  10th March 2023   \n",
              "3  ✅ Trip Verified | A short BA euro trip and thi...      1   9th March 2023   \n",
              "4  Not Verified |  We are flying Business class f...      8   8th March 2023   \n",
              "\n",
              "          country  verified                                             corpus  \n",
              "0  United Kingdom      True  incoming outgoing flight delayed french air tr...  \n",
              "1       Australia      True  back december family getting onto plane refuse...  \n",
              "2  United Kingdom      True  usual flight delayed week already hour held bu...  \n",
              "3  United Kingdom      True  short ba euro trip ba excel clean aircraft goo...  \n",
              "4   United States     False  verified flying business class flight premium ...  "
            ],
            "text/html": [
              "\n",
              "  <div id=\"df-c74b7091-2e57-47be-87b1-580dd26b5f37\">\n",
              "    <div class=\"colab-df-container\">\n",
              "      <div>\n",
              "<style scoped>\n",
              "    .dataframe tbody tr th:only-of-type {\n",
              "        vertical-align: middle;\n",
              "    }\n",
              "\n",
              "    .dataframe tbody tr th {\n",
              "        vertical-align: top;\n",
              "    }\n",
              "\n",
              "    .dataframe thead th {\n",
              "        text-align: right;\n",
              "    }\n",
              "</style>\n",
              "<table border=\"1\" class=\"dataframe\">\n",
              "  <thead>\n",
              "    <tr style=\"text-align: right;\">\n",
              "      <th></th>\n",
              "      <th>reviews</th>\n",
              "      <th>stars</th>\n",
              "      <th>date</th>\n",
              "      <th>country</th>\n",
              "      <th>verified</th>\n",
              "      <th>corpus</th>\n",
              "    </tr>\n",
              "  </thead>\n",
              "  <tbody>\n",
              "    <tr>\n",
              "      <th>0</th>\n",
              "      <td>✅ Trip Verified |  The incoming and outgoing f...</td>\n",
              "      <td>5</td>\n",
              "      <td>10th March 2023</td>\n",
              "      <td>United Kingdom</td>\n",
              "      <td>True</td>\n",
              "      <td>incoming outgoing flight delayed french air tr...</td>\n",
              "    </tr>\n",
              "    <tr>\n",
              "      <th>1</th>\n",
              "      <td>✅ Trip Verified |  Back in December my family ...</td>\n",
              "      <td>1</td>\n",
              "      <td>10th March 2023</td>\n",
              "      <td>Australia</td>\n",
              "      <td>True</td>\n",
              "      <td>back december family getting onto plane refuse...</td>\n",
              "    </tr>\n",
              "    <tr>\n",
              "      <th>2</th>\n",
              "      <td>✅ Trip Verified |  As usual the flight is dela...</td>\n",
              "      <td>1</td>\n",
              "      <td>10th March 2023</td>\n",
              "      <td>United Kingdom</td>\n",
              "      <td>True</td>\n",
              "      <td>usual flight delayed week already hour held bu...</td>\n",
              "    </tr>\n",
              "    <tr>\n",
              "      <th>3</th>\n",
              "      <td>✅ Trip Verified | A short BA euro trip and thi...</td>\n",
              "      <td>1</td>\n",
              "      <td>9th March 2023</td>\n",
              "      <td>United Kingdom</td>\n",
              "      <td>True</td>\n",
              "      <td>short ba euro trip ba excel clean aircraft goo...</td>\n",
              "    </tr>\n",
              "    <tr>\n",
              "      <th>4</th>\n",
              "      <td>Not Verified |  We are flying Business class f...</td>\n",
              "      <td>8</td>\n",
              "      <td>8th March 2023</td>\n",
              "      <td>United States</td>\n",
              "      <td>False</td>\n",
              "      <td>verified flying business class flight premium ...</td>\n",
              "    </tr>\n",
              "  </tbody>\n",
              "</table>\n",
              "</div>\n",
              "      <button class=\"colab-df-convert\" onclick=\"convertToInteractive('df-c74b7091-2e57-47be-87b1-580dd26b5f37')\"\n",
              "              title=\"Convert this dataframe to an interactive table.\"\n",
              "              style=\"display:none;\">\n",
              "        \n",
              "  <svg xmlns=\"http://www.w3.org/2000/svg\" height=\"24px\"viewBox=\"0 0 24 24\"\n",
              "       width=\"24px\">\n",
              "    <path d=\"M0 0h24v24H0V0z\" fill=\"none\"/>\n",
              "    <path d=\"M18.56 5.44l.94 2.06.94-2.06 2.06-.94-2.06-.94-.94-2.06-.94 2.06-2.06.94zm-11 1L8.5 8.5l.94-2.06 2.06-.94-2.06-.94L8.5 2.5l-.94 2.06-2.06.94zm10 10l.94 2.06.94-2.06 2.06-.94-2.06-.94-.94-2.06-.94 2.06-2.06.94z\"/><path d=\"M17.41 7.96l-1.37-1.37c-.4-.4-.92-.59-1.43-.59-.52 0-1.04.2-1.43.59L10.3 9.45l-7.72 7.72c-.78.78-.78 2.05 0 2.83L4 21.41c.39.39.9.59 1.41.59.51 0 1.02-.2 1.41-.59l7.78-7.78 2.81-2.81c.8-.78.8-2.07 0-2.86zM5.41 20L4 18.59l7.72-7.72 1.47 1.35L5.41 20z\"/>\n",
              "  </svg>\n",
              "      </button>\n",
              "      \n",
              "  <style>\n",
              "    .colab-df-container {\n",
              "      display:flex;\n",
              "      flex-wrap:wrap;\n",
              "      gap: 12px;\n",
              "    }\n",
              "\n",
              "    .colab-df-convert {\n",
              "      background-color: #E8F0FE;\n",
              "      border: none;\n",
              "      border-radius: 50%;\n",
              "      cursor: pointer;\n",
              "      display: none;\n",
              "      fill: #1967D2;\n",
              "      height: 32px;\n",
              "      padding: 0 0 0 0;\n",
              "      width: 32px;\n",
              "    }\n",
              "\n",
              "    .colab-df-convert:hover {\n",
              "      background-color: #E2EBFA;\n",
              "      box-shadow: 0px 1px 2px rgba(60, 64, 67, 0.3), 0px 1px 3px 1px rgba(60, 64, 67, 0.15);\n",
              "      fill: #174EA6;\n",
              "    }\n",
              "\n",
              "    [theme=dark] .colab-df-convert {\n",
              "      background-color: #3B4455;\n",
              "      fill: #D2E3FC;\n",
              "    }\n",
              "\n",
              "    [theme=dark] .colab-df-convert:hover {\n",
              "      background-color: #434B5C;\n",
              "      box-shadow: 0px 1px 3px 1px rgba(0, 0, 0, 0.15);\n",
              "      filter: drop-shadow(0px 1px 2px rgba(0, 0, 0, 0.3));\n",
              "      fill: #FFFFFF;\n",
              "    }\n",
              "  </style>\n",
              "\n",
              "      <script>\n",
              "        const buttonEl =\n",
              "          document.querySelector('#df-c74b7091-2e57-47be-87b1-580dd26b5f37 button.colab-df-convert');\n",
              "        buttonEl.style.display =\n",
              "          google.colab.kernel.accessAllowed ? 'block' : 'none';\n",
              "\n",
              "        async function convertToInteractive(key) {\n",
              "          const element = document.querySelector('#df-c74b7091-2e57-47be-87b1-580dd26b5f37');\n",
              "          const dataTable =\n",
              "            await google.colab.kernel.invokeFunction('convertToInteractive',\n",
              "                                                     [key], {});\n",
              "          if (!dataTable) return;\n",
              "\n",
              "          const docLinkHtml = 'Like what you see? Visit the ' +\n",
              "            '<a target=\"_blank\" href=https://colab.research.google.com/notebooks/data_table.ipynb>data table notebook</a>'\n",
              "            + ' to learn more about interactive tables.';\n",
              "          element.innerHTML = '';\n",
              "          dataTable['output_type'] = 'display_data';\n",
              "          await google.colab.output.renderOutput(dataTable, element);\n",
              "          const docLink = document.createElement('div');\n",
              "          docLink.innerHTML = docLinkHtml;\n",
              "          element.appendChild(docLink);\n",
              "        }\n",
              "      </script>\n",
              "    </div>\n",
              "  </div>\n",
              "  "
            ]
          },
          "metadata": {},
          "execution_count": 9
        }
      ]
    },
    {
      "cell_type": "markdown",
      "source": [
        "## Format Date"
      ],
      "metadata": {
        "id": "PcHGEF9FCX2K"
      }
    },
    {
      "cell_type": "code",
      "source": [
        "df.dtypes"
      ],
      "metadata": {
        "colab": {
          "base_uri": "https://localhost:8080/"
        },
        "id": "kHPeyHRhCkn2",
        "outputId": "51379c8f-c521-4053-98a5-63770e6b35b5"
      },
      "execution_count": 10,
      "outputs": [
        {
          "output_type": "execute_result",
          "data": {
            "text/plain": [
              "reviews     object\n",
              "stars        int64\n",
              "date        object\n",
              "country     object\n",
              "verified      bool\n",
              "corpus      object\n",
              "dtype: object"
            ]
          },
          "metadata": {},
          "execution_count": 10
        }
      ]
    },
    {
      "cell_type": "code",
      "source": [
        "# convert the date to datetime format\n",
        "\n",
        "df.date = pd.to_datetime(df.date)"
      ],
      "metadata": {
        "id": "o800CvzaCrjM"
      },
      "execution_count": 11,
      "outputs": []
    },
    {
      "cell_type": "code",
      "source": [
        "df.date.head()"
      ],
      "metadata": {
        "colab": {
          "base_uri": "https://localhost:8080/"
        },
        "id": "nxah-ypVCunD",
        "outputId": "57c54999-72a7-48a5-aa3f-d50f0d652320"
      },
      "execution_count": 12,
      "outputs": [
        {
          "output_type": "execute_result",
          "data": {
            "text/plain": [
              "0   2023-03-10\n",
              "1   2023-03-10\n",
              "2   2023-03-10\n",
              "3   2023-03-09\n",
              "4   2023-03-08\n",
              "Name: date, dtype: datetime64[ns]"
            ]
          },
          "metadata": {},
          "execution_count": 12
        }
      ]
    },
    {
      "cell_type": "markdown",
      "source": [
        "## Cleaning star"
      ],
      "metadata": {
        "id": "4RP3UxlbC27-"
      }
    },
    {
      "cell_type": "code",
      "source": [
        "#check for unique values\n",
        "df.stars.unique()"
      ],
      "metadata": {
        "colab": {
          "base_uri": "https://localhost:8080/"
        },
        "id": "lJXtaybhC5Nz",
        "outputId": "77addb7b-07c3-4019-b737-36a8326b6450"
      },
      "execution_count": 13,
      "outputs": [
        {
          "output_type": "execute_result",
          "data": {
            "text/plain": [
              "array([ 5,  1,  8,  2, 10,  4,  6,  7,  9,  3])"
            ]
          },
          "metadata": {},
          "execution_count": 13
        }
      ]
    },
    {
      "cell_type": "code",
      "source": [
        "df.stars.value_counts()"
      ],
      "metadata": {
        "colab": {
          "base_uri": "https://localhost:8080/"
        },
        "id": "hjnIlLCaDEgo",
        "outputId": "62f85f6d-6ac4-4b55-f7d1-370088472249"
      },
      "execution_count": 14,
      "outputs": [
        {
          "output_type": "execute_result",
          "data": {
            "text/plain": [
              "1     305\n",
              "2     111\n",
              "10    104\n",
              "3      96\n",
              "8      80\n",
              "9      80\n",
              "5      61\n",
              "4      60\n",
              "7      60\n",
              "6      43\n",
              "Name: stars, dtype: int64"
            ]
          },
          "metadata": {},
          "execution_count": 14
        }
      ]
    },
    {
      "cell_type": "markdown",
      "source": [
        "## Check for null"
      ],
      "metadata": {
        "id": "OWZ1_qurDox9"
      }
    },
    {
      "cell_type": "code",
      "source": [
        "df.isnull().value_counts()"
      ],
      "metadata": {
        "colab": {
          "base_uri": "https://localhost:8080/"
        },
        "id": "r6KHHwbODods",
        "outputId": "d5cd8d5a-7d4d-4cb3-9527-419a0e193d67"
      },
      "execution_count": 15,
      "outputs": [
        {
          "output_type": "execute_result",
          "data": {
            "text/plain": [
              "reviews  stars  date   country  verified  corpus\n",
              "False    False  False  False    False     False     1000\n",
              "dtype: int64"
            ]
          },
          "metadata": {},
          "execution_count": 15
        }
      ]
    },
    {
      "cell_type": "code",
      "source": [
        "df.country.isnull().value_counts()"
      ],
      "metadata": {
        "colab": {
          "base_uri": "https://localhost:8080/"
        },
        "id": "E-BNQitbDzWd",
        "outputId": "f8d98fe6-8e8b-4dd2-fbab-e1a18e15147a"
      },
      "execution_count": 16,
      "outputs": [
        {
          "output_type": "execute_result",
          "data": {
            "text/plain": [
              "False    1000\n",
              "Name: country, dtype: int64"
            ]
          },
          "metadata": {},
          "execution_count": 16
        }
      ]
    },
    {
      "cell_type": "code",
      "source": [
        "#drop the rows using index where the country value is null\n",
        "df.drop(df[df.country.isnull() == True].index, axis=0, inplace=True)"
      ],
      "metadata": {
        "id": "x4T0cV4sEBx5"
      },
      "execution_count": 17,
      "outputs": []
    },
    {
      "cell_type": "code",
      "source": [
        "df.shape"
      ],
      "metadata": {
        "colab": {
          "base_uri": "https://localhost:8080/"
        },
        "id": "VBDp1M-EEE4L",
        "outputId": "1060e753-d867-4d0b-9ce1-eca42a6e1ee8"
      },
      "execution_count": 18,
      "outputs": [
        {
          "output_type": "execute_result",
          "data": {
            "text/plain": [
              "(1000, 6)"
            ]
          },
          "metadata": {},
          "execution_count": 18
        }
      ]
    },
    {
      "cell_type": "code",
      "source": [
        "#resetting the index\n",
        "df.reset_index(drop=True)"
      ],
      "metadata": {
        "colab": {
          "base_uri": "https://localhost:8080/",
          "height": 468
        },
        "id": "lPX5DTLxEGl9",
        "outputId": "c4dd87c2-ad41-4511-864f-239e7fd36b25"
      },
      "execution_count": 19,
      "outputs": [
        {
          "output_type": "execute_result",
          "data": {
            "text/plain": [
              "                                               reviews  stars       date  \\\n",
              "0    ✅ Trip Verified |  The incoming and outgoing f...      5 2023-03-10   \n",
              "1    ✅ Trip Verified |  Back in December my family ...      1 2023-03-10   \n",
              "2    ✅ Trip Verified |  As usual the flight is dela...      1 2023-03-10   \n",
              "3    ✅ Trip Verified | A short BA euro trip and thi...      1 2023-03-09   \n",
              "4    Not Verified |  We are flying Business class f...      8 2023-03-08   \n",
              "..                                                 ...    ...        ...   \n",
              "995  ✅ Trip Verified |  This was an early morning f...     10 2018-05-18   \n",
              "996  ✅ Trip Verified |  Cape Town to London. Dated ...      9 2018-05-17   \n",
              "997  ✅ Trip Verified |  Washington to Prague via Lo...      1 2018-05-14   \n",
              "998  ✅ Trip Verified |  London to Washington. Apart...      1 2018-05-14   \n",
              "999  ✅ Trip Verified |  I had called the British Ai...      2 2018-05-14   \n",
              "\n",
              "            country  verified  \\\n",
              "0    United Kingdom      True   \n",
              "1         Australia      True   \n",
              "2    United Kingdom      True   \n",
              "3    United Kingdom      True   \n",
              "4     United States     False   \n",
              "..              ...       ...   \n",
              "995       Singapore      True   \n",
              "996  United Kingdom      True   \n",
              "997   United States      True   \n",
              "998          France      True   \n",
              "999   United States      True   \n",
              "\n",
              "                                                corpus  \n",
              "0    incoming outgoing flight delayed french air tr...  \n",
              "1    back december family getting onto plane refuse...  \n",
              "2    usual flight delayed week already hour held bu...  \n",
              "3    short ba euro trip ba excel clean aircraft goo...  \n",
              "4    verified flying business class flight premium ...  \n",
              "..                                                 ...  \n",
              "995  early morning flight heathrow keflavik flight ...  \n",
              "996  cape town london dated aircraft poor cabin ser...  \n",
              "997  washington prague via london flown several tim...  \n",
              "998  london washington apart space nothing nothing ...  \n",
              "999  called british airway customer service staff a...  \n",
              "\n",
              "[1000 rows x 6 columns]"
            ],
            "text/html": [
              "\n",
              "  <div id=\"df-e5b7c853-ac34-4f0c-8fbf-fdf837db7e0a\">\n",
              "    <div class=\"colab-df-container\">\n",
              "      <div>\n",
              "<style scoped>\n",
              "    .dataframe tbody tr th:only-of-type {\n",
              "        vertical-align: middle;\n",
              "    }\n",
              "\n",
              "    .dataframe tbody tr th {\n",
              "        vertical-align: top;\n",
              "    }\n",
              "\n",
              "    .dataframe thead th {\n",
              "        text-align: right;\n",
              "    }\n",
              "</style>\n",
              "<table border=\"1\" class=\"dataframe\">\n",
              "  <thead>\n",
              "    <tr style=\"text-align: right;\">\n",
              "      <th></th>\n",
              "      <th>reviews</th>\n",
              "      <th>stars</th>\n",
              "      <th>date</th>\n",
              "      <th>country</th>\n",
              "      <th>verified</th>\n",
              "      <th>corpus</th>\n",
              "    </tr>\n",
              "  </thead>\n",
              "  <tbody>\n",
              "    <tr>\n",
              "      <th>0</th>\n",
              "      <td>✅ Trip Verified |  The incoming and outgoing f...</td>\n",
              "      <td>5</td>\n",
              "      <td>2023-03-10</td>\n",
              "      <td>United Kingdom</td>\n",
              "      <td>True</td>\n",
              "      <td>incoming outgoing flight delayed french air tr...</td>\n",
              "    </tr>\n",
              "    <tr>\n",
              "      <th>1</th>\n",
              "      <td>✅ Trip Verified |  Back in December my family ...</td>\n",
              "      <td>1</td>\n",
              "      <td>2023-03-10</td>\n",
              "      <td>Australia</td>\n",
              "      <td>True</td>\n",
              "      <td>back december family getting onto plane refuse...</td>\n",
              "    </tr>\n",
              "    <tr>\n",
              "      <th>2</th>\n",
              "      <td>✅ Trip Verified |  As usual the flight is dela...</td>\n",
              "      <td>1</td>\n",
              "      <td>2023-03-10</td>\n",
              "      <td>United Kingdom</td>\n",
              "      <td>True</td>\n",
              "      <td>usual flight delayed week already hour held bu...</td>\n",
              "    </tr>\n",
              "    <tr>\n",
              "      <th>3</th>\n",
              "      <td>✅ Trip Verified | A short BA euro trip and thi...</td>\n",
              "      <td>1</td>\n",
              "      <td>2023-03-09</td>\n",
              "      <td>United Kingdom</td>\n",
              "      <td>True</td>\n",
              "      <td>short ba euro trip ba excel clean aircraft goo...</td>\n",
              "    </tr>\n",
              "    <tr>\n",
              "      <th>4</th>\n",
              "      <td>Not Verified |  We are flying Business class f...</td>\n",
              "      <td>8</td>\n",
              "      <td>2023-03-08</td>\n",
              "      <td>United States</td>\n",
              "      <td>False</td>\n",
              "      <td>verified flying business class flight premium ...</td>\n",
              "    </tr>\n",
              "    <tr>\n",
              "      <th>...</th>\n",
              "      <td>...</td>\n",
              "      <td>...</td>\n",
              "      <td>...</td>\n",
              "      <td>...</td>\n",
              "      <td>...</td>\n",
              "      <td>...</td>\n",
              "    </tr>\n",
              "    <tr>\n",
              "      <th>995</th>\n",
              "      <td>✅ Trip Verified |  This was an early morning f...</td>\n",
              "      <td>10</td>\n",
              "      <td>2018-05-18</td>\n",
              "      <td>Singapore</td>\n",
              "      <td>True</td>\n",
              "      <td>early morning flight heathrow keflavik flight ...</td>\n",
              "    </tr>\n",
              "    <tr>\n",
              "      <th>996</th>\n",
              "      <td>✅ Trip Verified |  Cape Town to London. Dated ...</td>\n",
              "      <td>9</td>\n",
              "      <td>2018-05-17</td>\n",
              "      <td>United Kingdom</td>\n",
              "      <td>True</td>\n",
              "      <td>cape town london dated aircraft poor cabin ser...</td>\n",
              "    </tr>\n",
              "    <tr>\n",
              "      <th>997</th>\n",
              "      <td>✅ Trip Verified |  Washington to Prague via Lo...</td>\n",
              "      <td>1</td>\n",
              "      <td>2018-05-14</td>\n",
              "      <td>United States</td>\n",
              "      <td>True</td>\n",
              "      <td>washington prague via london flown several tim...</td>\n",
              "    </tr>\n",
              "    <tr>\n",
              "      <th>998</th>\n",
              "      <td>✅ Trip Verified |  London to Washington. Apart...</td>\n",
              "      <td>1</td>\n",
              "      <td>2018-05-14</td>\n",
              "      <td>France</td>\n",
              "      <td>True</td>\n",
              "      <td>london washington apart space nothing nothing ...</td>\n",
              "    </tr>\n",
              "    <tr>\n",
              "      <th>999</th>\n",
              "      <td>✅ Trip Verified |  I had called the British Ai...</td>\n",
              "      <td>2</td>\n",
              "      <td>2018-05-14</td>\n",
              "      <td>United States</td>\n",
              "      <td>True</td>\n",
              "      <td>called british airway customer service staff a...</td>\n",
              "    </tr>\n",
              "  </tbody>\n",
              "</table>\n",
              "<p>1000 rows × 6 columns</p>\n",
              "</div>\n",
              "      <button class=\"colab-df-convert\" onclick=\"convertToInteractive('df-e5b7c853-ac34-4f0c-8fbf-fdf837db7e0a')\"\n",
              "              title=\"Convert this dataframe to an interactive table.\"\n",
              "              style=\"display:none;\">\n",
              "        \n",
              "  <svg xmlns=\"http://www.w3.org/2000/svg\" height=\"24px\"viewBox=\"0 0 24 24\"\n",
              "       width=\"24px\">\n",
              "    <path d=\"M0 0h24v24H0V0z\" fill=\"none\"/>\n",
              "    <path d=\"M18.56 5.44l.94 2.06.94-2.06 2.06-.94-2.06-.94-.94-2.06-.94 2.06-2.06.94zm-11 1L8.5 8.5l.94-2.06 2.06-.94-2.06-.94L8.5 2.5l-.94 2.06-2.06.94zm10 10l.94 2.06.94-2.06 2.06-.94-2.06-.94-.94-2.06-.94 2.06-2.06.94z\"/><path d=\"M17.41 7.96l-1.37-1.37c-.4-.4-.92-.59-1.43-.59-.52 0-1.04.2-1.43.59L10.3 9.45l-7.72 7.72c-.78.78-.78 2.05 0 2.83L4 21.41c.39.39.9.59 1.41.59.51 0 1.02-.2 1.41-.59l7.78-7.78 2.81-2.81c.8-.78.8-2.07 0-2.86zM5.41 20L4 18.59l7.72-7.72 1.47 1.35L5.41 20z\"/>\n",
              "  </svg>\n",
              "      </button>\n",
              "      \n",
              "  <style>\n",
              "    .colab-df-container {\n",
              "      display:flex;\n",
              "      flex-wrap:wrap;\n",
              "      gap: 12px;\n",
              "    }\n",
              "\n",
              "    .colab-df-convert {\n",
              "      background-color: #E8F0FE;\n",
              "      border: none;\n",
              "      border-radius: 50%;\n",
              "      cursor: pointer;\n",
              "      display: none;\n",
              "      fill: #1967D2;\n",
              "      height: 32px;\n",
              "      padding: 0 0 0 0;\n",
              "      width: 32px;\n",
              "    }\n",
              "\n",
              "    .colab-df-convert:hover {\n",
              "      background-color: #E2EBFA;\n",
              "      box-shadow: 0px 1px 2px rgba(60, 64, 67, 0.3), 0px 1px 3px 1px rgba(60, 64, 67, 0.15);\n",
              "      fill: #174EA6;\n",
              "    }\n",
              "\n",
              "    [theme=dark] .colab-df-convert {\n",
              "      background-color: #3B4455;\n",
              "      fill: #D2E3FC;\n",
              "    }\n",
              "\n",
              "    [theme=dark] .colab-df-convert:hover {\n",
              "      background-color: #434B5C;\n",
              "      box-shadow: 0px 1px 3px 1px rgba(0, 0, 0, 0.15);\n",
              "      filter: drop-shadow(0px 1px 2px rgba(0, 0, 0, 0.3));\n",
              "      fill: #FFFFFF;\n",
              "    }\n",
              "  </style>\n",
              "\n",
              "      <script>\n",
              "        const buttonEl =\n",
              "          document.querySelector('#df-e5b7c853-ac34-4f0c-8fbf-fdf837db7e0a button.colab-df-convert');\n",
              "        buttonEl.style.display =\n",
              "          google.colab.kernel.accessAllowed ? 'block' : 'none';\n",
              "\n",
              "        async function convertToInteractive(key) {\n",
              "          const element = document.querySelector('#df-e5b7c853-ac34-4f0c-8fbf-fdf837db7e0a');\n",
              "          const dataTable =\n",
              "            await google.colab.kernel.invokeFunction('convertToInteractive',\n",
              "                                                     [key], {});\n",
              "          if (!dataTable) return;\n",
              "\n",
              "          const docLinkHtml = 'Like what you see? Visit the ' +\n",
              "            '<a target=\"_blank\" href=https://colab.research.google.com/notebooks/data_table.ipynb>data table notebook</a>'\n",
              "            + ' to learn more about interactive tables.';\n",
              "          element.innerHTML = '';\n",
              "          dataTable['output_type'] = 'display_data';\n",
              "          await google.colab.output.renderOutput(dataTable, element);\n",
              "          const docLink = document.createElement('div');\n",
              "          docLink.innerHTML = docLinkHtml;\n",
              "          element.appendChild(docLink);\n",
              "        }\n",
              "      </script>\n",
              "    </div>\n",
              "  </div>\n",
              "  "
            ]
          },
          "metadata": {},
          "execution_count": 19
        }
      ]
    },
    {
      "cell_type": "code",
      "source": [
        "# export the cleaned data\n",
        "\n",
        "df.to_csv(cwd + \"/cleaned-BA-reviews.csv\")"
      ],
      "metadata": {
        "id": "484UoS0lEQsG"
      },
      "execution_count": 20,
      "outputs": []
    }
  ]
}